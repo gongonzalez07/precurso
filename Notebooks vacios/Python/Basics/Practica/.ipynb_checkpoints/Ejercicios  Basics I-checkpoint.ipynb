{
 "cells": [
  {
   "cell_type": "markdown",
   "metadata": {},
   "source": [
    "![imagen](./img/ejercicios.png)"
   ]
  },
  {
   "cell_type": "markdown",
   "metadata": {},
   "source": [
    "# Ejercicios Python Basics I"
   ]
  },
  {
   "cell_type": "markdown",
   "metadata": {},
   "source": [
    "## Ejercicio 1\n",
    "Imprime por pantalla esta cita con el siguiente formato\n",
    "\n",
    "![imagen](./img/frase_Einstein.PNG)"
   ]
  },
  {
   "cell_type": "code",
   "execution_count": 4,
   "metadata": {},
   "outputs": [
    {
     "name": "stdout",
     "output_type": "stream",
     "text": [
      "¿Por qué esta magnífica tecnología científica, \n",
      "\tque ahorra trabajo y nos hace la vida mas fácil, \n",
      "\t\tnos aporta tan poca felicidad? \n",
      "\t\t\tLa repuesta es está, simplemente: porque aún no hemos aprendido a usarla con tino. \n",
      "\"Albert Einstein\"\n"
     ]
    }
   ],
   "source": [
    "print('¿Por qué esta magnífica tecnología científica, \\n\\tque ahorra trabajo y nos hace la vida mas fácil, \\n\\t\\tnos aporta tan poca felicidad? \\\n",
    "\\n\\t\\t\\tLa repuesta es está, simplemente: porque aún no hemos aprendido a usarla con tino. \\n\"Albert Einstein\"')"
   ]
  },
  {
   "cell_type": "markdown",
   "metadata": {},
   "source": [
    "## Ejercicio 2\n",
    "1. Escribe el nombre de la calle de tu domicilio en una variable\n",
    "2. Escribe el numero de la calle en otra\n",
    "3. Población en una tercera\n",
    "4. Codigo postal en la cuarta variable\n",
    "5. Crea una quinta variable que concatene todas ellas\n",
    "6. Imprimela por pantalla"
   ]
  },
  {
   "cell_type": "code",
   "execution_count": 11,
   "metadata": {},
   "outputs": [
    {
     "data": {
      "text/plain": [
       "('Liverpool', 4, 'Alcorcón', 28922)"
      ]
     },
     "execution_count": 11,
     "metadata": {},
     "output_type": "execute_result"
    }
   ],
   "source": [
    "calle = \"Liverpool\"\n",
    "num = 4\n",
    "ciudad = \"Alcorcón\"\n",
    "CP = 28922\n",
    "DIR = calle, num,  ciudad, CP\n",
    "DIR"
   ]
  },
  {
   "cell_type": "markdown",
   "metadata": {},
   "source": [
    "## Ejercicio 3\n",
    "Replica el output del ejercicio dos, pero está vez sin usar una variable intermedia que concatene todas las demas. Realiza este ejercicio en una línea, con un  único `print`"
   ]
  },
  {
   "cell_type": "code",
   "execution_count": 15,
   "metadata": {},
   "outputs": [
    {
     "name": "stdout",
     "output_type": "stream",
     "text": [
      "Liverpool 4 Alcorcón 28922\n",
      "Liverpool 4 Alcorcón 28922\n"
     ]
    }
   ],
   "source": [
    "print(calle, num,  ciudad, CP)\n",
    "# or\n",
    "print(calle + ' ' + str(num) + ' ' + ciudad + ' ' + str(CP))"
   ]
  },
  {
   "cell_type": "markdown",
   "metadata": {},
   "source": [
    "## Ejercicio 4\n",
    "¿Qué variables están mal escritas y por qué? Realiza primero tu hipótesis y luego ejecuta las variables para comprobarlo. En ese orden :)\n",
    "\n",
    "\n",
    "1. mi_variable = \"Economía\" BIEN\n",
    "2. otra_var = \"Ejercicio # MAL (falta comillas de cierre)\n",
    "3. True = \"Ejercicio\" # MAL (palabra reservada)\n",
    "4. mi variab1e = \"Alpha\" # MAL (espacio entre en nombre de la variable)\n",
    "5. import = 40 # MAL (palabra reservada)\n",
    "6. 81mi_variable = \"Agua\" # MAL (Empieza por número)\n",
    "7. mi_variable10 = 6 # BIEN"
   ]
  },
  {
   "cell_type": "code",
   "execution_count": 16,
   "metadata": {},
   "outputs": [],
   "source": [
    "mi_variable = \"Economía\" # BIEN\n",
    "otra_var = \"Ejercicio\" # MAL (falta comillas de cierre)\n",
    "true = \"Ejercicio\" # MAL (palabra reservada)\n",
    "mi_variab1e = \"Alpha\" # MAL (espacio entre en nombre de la variable)\n",
    "importe = 40 # MAL (palabra reservada)\n",
    "mi_variable81 = \"Agua\" # MAL (Empieza por número)\n",
    "mi_variable10 = 6 # BIEN"
   ]
  },
  {
   "cell_type": "markdown",
   "metadata": {},
   "source": [
    "## Ejercicio 5\n",
    "Realiza un conversor de grados Celsius a Fahrenheit. El conversor tiene que recibir el input del usuario y devolver la conversión.\n",
    "\n",
    "La conversión de grados sigue la siguiente fórmula: F = (C × 9 / 5) + 32 "
   ]
  },
  {
   "cell_type": "code",
   "execution_count": 23,
   "metadata": {},
   "outputs": [
    {
     "name": "stdin",
     "output_type": "stream",
     "text": [
      "ingrese °:  32\n"
     ]
    },
    {
     "name": "stdout",
     "output_type": "stream",
     "text": [
      "32.00° son 89.60°F\n"
     ]
    }
   ],
   "source": [
    "celsius = float(input(\"ingrese °: \"))\n",
    "farenheit = float((celsius * (9/5)) + 32)\n",
    "print(\"%.2f° son %.2f°F\" % (celsius, farenheit))"
   ]
  },
  {
   "cell_type": "markdown",
   "metadata": {},
   "source": [
    "## Ejercicio 6\n",
    "Comenta en la medida de lo posible el Ejercicio 5. Será suficiente con poner al menos un comentario de línea, y otro multilínea"
   ]
  },
  {
   "cell_type": "code",
   "execution_count": 28,
   "metadata": {},
   "outputs": [
    {
     "name": "stdin",
     "output_type": "stream",
     "text": [
      "ingrese °:  32\n"
     ]
    },
    {
     "name": "stdout",
     "output_type": "stream",
     "text": [
      "32.0° son 89.6°F\n"
     ]
    }
   ],
   "source": [
    "# creamos una variable con un input que pida al usuario el dato de grados en Celsius.\n",
    "celsius = float(input(\"ingrese °: \"))\n",
    "# aplicamos la formula en otra  otra variable.\n",
    "farenheit = float((celsius * (9/5)) + 32)\n",
    "# e imprimimos dando formato a la respuesta.\n",
    "print(\"{}° son {}°F\".format (celsius, farenheit))"
   ]
  }
 ],
 "metadata": {
  "kernelspec": {
   "display_name": "Python 3",
   "language": "python",
   "name": "python3"
  },
  "language_info": {
   "codemirror_mode": {
    "name": "ipython",
    "version": 3
   },
   "file_extension": ".py",
   "mimetype": "text/x-python",
   "name": "python",
   "nbconvert_exporter": "python",
   "pygments_lexer": "ipython3",
   "version": "3.8.8"
  },
  "nbTranslate": {
   "displayLangs": [
    "*"
   ],
   "hotkey": "alt-t",
   "langInMainMenu": true,
   "sourceLang": "en",
   "targetLang": "fr",
   "useGoogleTranslate": true
  },
  "varInspector": {
   "cols": {
    "lenName": 16,
    "lenType": 16,
    "lenVar": 40
   },
   "kernels_config": {
    "python": {
     "delete_cmd_postfix": "",
     "delete_cmd_prefix": "del ",
     "library": "var_list.py",
     "varRefreshCmd": "print(var_dic_list())"
    },
    "r": {
     "delete_cmd_postfix": ") ",
     "delete_cmd_prefix": "rm(",
     "library": "var_list.r",
     "varRefreshCmd": "cat(var_dic_list()) "
    }
   },
   "types_to_exclude": [
    "module",
    "function",
    "builtin_function_or_method",
    "instance",
    "_Feature"
   ],
   "window_display": false
  }
 },
 "nbformat": 4,
 "nbformat_minor": 4
}
