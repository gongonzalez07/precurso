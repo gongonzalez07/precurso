{
 "cells": [
  {
   "cell_type": "markdown",
   "metadata": {},
   "source": [
    "# Entrega Ramp Up\n"
   ]
  },
  {
   "cell_type": "markdown",
   "metadata": {},
   "source": [
    "## Ejercicio 1\n",
    "#### Crear un programa que calcule la cuota de una hipoteca\n",
    "\n",
    "Las cuotas hipotecarias se calculan utilizando la fórmula del interés frances. El objetivo del ejercicio es crear un programa que solicite al usuario los datos de su hipoteca (cantidad, intereses, y plazo en años) y le devuelva la cuota mensual a pagar\n",
    "\n",
    "La formula del interés frances es la siguiente:\n",
    "\\begin{align*}\n",
    "C=V \\frac{(1+i)^n i}{(1+i)^n -1}\n",
    "\\end{align*}\n",
    "\n",
    "\n",
    "    C = Cuota a pagar\n",
    "    V = Cantidad del préstamo hipotecario\n",
    "    i = tipo de interés del período (tipo de interes de la hipoteca por mes)\n",
    "    n = número de cuotas (en meses)\n",
    "\n",
    "V = 300.000\n",
    "\n",
    "i = 2 %\n",
    "\n",
    "n = 20*12\n",
    "\n",
    "output: 1517"
   ]
  },
  {
   "cell_type": "code",
   "execution_count": 4,
   "metadata": {
    "collapsed": true,
    "jupyter": {
     "outputs_hidden": true
    }
   },
   "outputs": [
    {
     "name": "stdin",
     "output_type": "stream",
     "text": [
      "Total capital solicitado:  300000\n",
      "Tipo de interes anual aplicable:  2\n",
      "Ingrese el número de años de amortización:  20\n"
     ]
    },
    {
     "name": "stdout",
     "output_type": "stream",
     "text": [
      "Su cuota mensual sería de: 1517.7\n"
     ]
    }
   ],
   "source": [
    "def cuota_hipot(capital, interes, años):\n",
    "    \n",
    "    n = años * 12 # total en meses para la amortización\n",
    "    i = (interes/100)/12 # % de intereses mensuales a pagar\n",
    "    cuota_mensual = (i*capital * ((1 + i)**n)) / (((1 + i)**n)-1)\n",
    "    \n",
    "    return cuota_mensual\n",
    "\n",
    "capital = int(input(\"Total capital solicitado: \"))        \n",
    "interes = float(input(\"Tipo de interes anual aplicable: \"))\n",
    "años = int(input(\"Ingrese el número de años de amortización: \"))\n",
    "\n",
    "print(\"Su cuota mensual sería de: {:^4.1f}\" .format(cuota_hipot(capital, interes, años)))\n",
    "   "
   ]
  },
  {
   "cell_type": "markdown",
   "metadata": {},
   "source": [
    "## Ejercicio 2\n",
    "#### Crear un programa que calcule el plan de amortización\n",
    "\n",
    "El objetivo del ejercicio es crear un programa que solicite al usuario los datos de su hipoteca (cantidad, intereses, y plazo en años) y le devuelva el plan de amortización.\n",
    "\n",
    "En cada cuota se pagan intereses por el capital restante, y se devuelve capital hasta la cuota mensual. El capital restante ha de ser actualizado restandole el capital devuelto.\n",
    "\n",
    "Salida ejemplo:\n",
    "\n",
    "mes  cuota  intereses  principal  pendiente   \n",
    "\n",
    "0  758.89   450.00   308.89   179691.11 \n",
    "\n",
    "**NOTA**: Tienes que partir de tipo de interes por periodo calculado en el apartado anterior, y del total de la hipoteca. Para cada mes calcular:\n",
    "\n",
    "1. cuota (apartado anterior)\n",
    "2. intereses a pagar del mes (lo que quede por pagar * interes por periodo del apartado anterior)\n",
    "3. principal (cuota - interes)\n",
    "4. pendiente (lo que quede por pagar - principal)\n",
    "\n",
    "Igual que se calcula aqui: http://www.calculohipoteca.org"
   ]
  },
  {
   "cell_type": "code",
   "execution_count": null,
   "metadata": {},
   "outputs": [],
   "source": [
    "def cuotaPrest(mes, cuotaMensual, interes, capital, pendiente):\n",
    "    \n",
    "n = años * 12 # total en meses para la amortización\n",
    "i = (interes/100)/12 # % de intereses mensuales a pagar\n",
    "cuotaMensual = (i*capital) / (1 - ((1 + i)**n)-1)\n",
    "    \n",
    "return cuotaMensual\n",
    "nuevo_pendiente = capital\n",
    "for mes in range(n + 1):\n",
    "     if mes == 0:\n",
    "            print(cuotaMensual)\n",
    "     else:\n",
    "            nuevos_intereses = nuevo_pendiente * n\n",
    "            amortizacion = cuotaMensual * nuevos_intereses \n",
    "            nuevo_pendiente = nuevo_pendiente * amortizacion\n",
    "            \n",
    "\n",
    "capital = int(input(\"Total capital solicitado: \"))        \n",
    "interes = float(input(\"Tipo de interes anual aplicable: \"))\n",
    "años = int(input(\"Ingrese el número de años de amortización: \"))\n",
    "\n",
    "print(\"{}{}{}{}{}\" .fotmat(cuotaPrest(mes, cuotaMensual, interes, capital, años)))\n",
    "\n",
    "# No veo el error, preguntar a Dani!\n"
   ]
  },
  {
   "cell_type": "markdown",
   "metadata": {},
   "source": [
    "## Ejercicio 3\n",
    "#### Crear un programa que resuelva una ecuacción de segundo grado\n",
    "\n",
    "El objetivo del programa es resolver la ecuacción de sgundo grado \n",
    "\n",
    "\\begin{align*}\n",
    "ax^2+bx+c = 0\n",
    "\\end{align*}\n",
    "\n",
    "Pasando como parámetros los coeficientes de la ecuacción. La resolución de la ecuacción es la siguiente:\n",
    "\n",
    "\\begin{align*}\n",
    "x=\\frac{-b \\pm \\sqrt{b^2-4ac}}{2a}\n",
    "\\end{align*}\n",
    "\n",
    "Para realizar este programa tienes que utilizar el metodo sqrt() para calcular la raiz cuadrada. Para ello tienes que importar el módulo math. Así que tu programa debería empezar con ```ìmport math```\n"
   ]
  },
  {
   "cell_type": "code",
   "execution_count": 6,
   "metadata": {
    "collapsed": true,
    "jupyter": {
     "outputs_hidden": true
    }
   },
   "outputs": [
    {
     "name": "stdin",
     "output_type": "stream",
     "text": [
      "Ingrese el coeficiente de la variable cuadrática:  1\n",
      "Ingrese el coeficiente de la variable lineal:  -3\n",
      "Ingrese el término independiente.  2\n"
     ]
    },
    {
     "name": "stdout",
     "output_type": "stream",
     "text": [
      "Las soluciones de la ecuación son:\n",
      "2.0\n",
      "1.0\n"
     ]
    }
   ],
   "source": [
    "from math import sqrt\n",
    "\n",
    "A = int(input(\"Ingrese el coeficiente de la variable cuadrática: \"))\n",
    "B = int(input(\"Ingrese el coeficiente de la variable lineal: \"))\n",
    "C = int(input(\"Ingrese el término independiente. \"))\n",
    "\n",
    "if ((B**2)-4*A*C) < 0:\n",
    "    print(\"La solución de la ecuación es con numeros complejos\")\n",
    "else:\n",
    "    x1 = (-B+sqrt(B**2-(4*A*C)))/(2*A)  # Fórmula de Bhaskara parte positiva\n",
    "    x2 = (-B-sqrt(B**2-(4*A*C)))/(2*A)  # Fórmula de Bhaskara parte negativa\n",
    "    print(\"Las soluciones de la ecuación son:\")\n",
    "    print(x1)\n",
    "    print(x2)\n"
   ]
  },
  {
   "cell_type": "markdown",
   "metadata": {},
   "source": [
    "## Ejercicio 4\n",
    "#### Crear un programa que calcule el average\n",
    "\n",
    "El programa pedirá al usuario que introduzca numeros. En primer lugar le pedirá que indique cuantos números se quieren introducir, y enseñara un prompt para incluirlos, y calculará el average.\n",
    "\n"
   ]
  },
  {
   "cell_type": "code",
   "execution_count": 1,
   "metadata": {
    "collapsed": true,
    "jupyter": {
     "outputs_hidden": true
    }
   },
   "outputs": [
    {
     "name": "stdin",
     "output_type": "stream",
     "text": [
      "¿cuantas cantidades debo promediar? :  3\n"
     ]
    },
    {
     "name": "stdout",
     "output_type": "stream",
     "text": [
      "ingrese cantidad: \n"
     ]
    },
    {
     "name": "stdin",
     "output_type": "stream",
     "text": [
      " 3\n"
     ]
    },
    {
     "name": "stdout",
     "output_type": "stream",
     "text": [
      "ingrese cantidad: \n"
     ]
    },
    {
     "name": "stdin",
     "output_type": "stream",
     "text": [
      " 6\n"
     ]
    },
    {
     "name": "stdout",
     "output_type": "stream",
     "text": [
      "ingrese cantidad: \n"
     ]
    },
    {
     "name": "stdin",
     "output_type": "stream",
     "text": [
      " 0\n"
     ]
    },
    {
     "name": "stdout",
     "output_type": "stream",
     "text": [
      "el promedio de sus cantidades es 3.0 \n"
     ]
    }
   ],
   "source": [
    "cantidad = 1\n",
    "suma = 0\n",
    "\n",
    "num = int(input(\"¿cuantas cantidades quieres promediar? : \"))\n",
    "while cantidad <= num: \n",
    "    print(\"ingrese cantidad: \")\n",
    "    dato = float(input())\n",
    "    suma = suma + dato\n",
    "    cantidad += 1\n",
    "avg = suma / num\n",
    "print(\"el promedio de sus cantidades es %s \" % avg)"
   ]
  },
  {
   "cell_type": "markdown",
   "metadata": {},
   "source": [
    "## Ejercicio 5\n",
    "#### Crear un programa que calcule el average II\n",
    "\n",
    "El programa pedirá que se diga cuantos números se quieren introducir, y enseñara un prompt para incluirl número a número en una lista, y calcule después el average.\n"
   ]
  },
  {
   "cell_type": "code",
   "execution_count": 7,
   "metadata": {
    "collapsed": true,
    "jupyter": {
     "outputs_hidden": true
    }
   },
   "outputs": [
    {
     "name": "stdin",
     "output_type": "stream",
     "text": [
      "¿cuantas cantidades quieres promediar? :  2\n"
     ]
    },
    {
     "name": "stdout",
     "output_type": "stream",
     "text": [
      "ingrese cantidad: \n"
     ]
    },
    {
     "name": "stdin",
     "output_type": "stream",
     "text": [
      " 5\n"
     ]
    },
    {
     "name": "stdout",
     "output_type": "stream",
     "text": [
      "ingrese cantidad: \n"
     ]
    },
    {
     "name": "stdin",
     "output_type": "stream",
     "text": [
      " 8\n"
     ]
    },
    {
     "name": "stdout",
     "output_type": "stream",
     "text": [
      "[[2, 3]]\n",
      "el promedio de sus cantidades es 6.5 \n"
     ]
    }
   ],
   "source": [
    "cantidad = 1\n",
    "suma = 0\n",
    "lista = []\n",
    "\n",
    "num = int(input(\"¿cuantas cantidades quieres promediar? : \"))\n",
    "while cantidad <= num: \n",
    "    print(\"ingrese cantidad: \")      \n",
    "    dato = float(input())\n",
    "    suma = suma + dato\n",
    "    cantidad += 1\n",
    "    avg = suma / num\n",
    "for i in range(num, cantidad):\n",
    "    lista.append([num, cantidad])\n",
    "    print(lista)    \n",
    "print(\"el promedio de sus cantidades es %s \" % avg)\n",
    "# presenta una incongruencia consultar caon Dani"
   ]
  },
  {
   "cell_type": "markdown",
   "metadata": {},
   "source": [
    "## Ejercicio 6\n",
    "#### Write a Python program to convert a list of characters into a string.\n",
    "\n",
    "Sample list : ['a','b','c','d']\n",
    "\n",
    "Expected output : abcd"
   ]
  },
  {
   "cell_type": "code",
   "execution_count": 8,
   "metadata": {
    "collapsed": true,
    "jupyter": {
     "outputs_hidden": true
    }
   },
   "outputs": [
    {
     "name": "stdout",
     "output_type": "stream",
     "text": [
      "abcd\n"
     ]
    }
   ],
   "source": [
    "Sample_list = ['a','b','c','d']\n",
    "str1 = ''.join(Sample_list)\n",
    "print(str1)"
   ]
  },
  {
   "cell_type": "markdown",
   "metadata": {},
   "source": [
    "## Ejercicio 7\n",
    "#### First and last 5\n",
    "Write a Python program to generate and print a list of first and last 5 elements where the values are square of numbers between 1 and 30 (both included). "
   ]
  },
  {
   "cell_type": "code",
   "execution_count": 11,
   "metadata": {
    "collapsed": true,
    "jupyter": {
     "outputs_hidden": true
    }
   },
   "outputs": [
    {
     "name": "stdout",
     "output_type": "stream",
     "text": [
      "[0]\n",
      "[0]\n",
      "[0, 2]\n",
      "[0, 2]\n",
      "[0, 2, 4]\n",
      "[0, 2, 4]\n",
      "[0, 2, 4, 6]\n",
      "[0, 2, 4, 6]\n",
      "[0, 2, 4, 6, 8]\n",
      "[0, 2, 4, 6, 8]\n",
      "[0, 2, 4, 6, 8]\n",
      "[2, 4, 6, 8, 10]\n",
      "[0, 2, 4, 6, 8]\n",
      "[4, 6, 8, 10, 12]\n",
      "[0, 2, 4, 6, 8]\n",
      "[6, 8, 10, 12, 14]\n",
      "[0, 2, 4, 6, 8]\n",
      "[8, 10, 12, 14, 16]\n",
      "[0, 2, 4, 6, 8]\n",
      "[10, 12, 14, 16, 18]\n",
      "[0, 2, 4, 6, 8]\n",
      "[12, 14, 16, 18, 20]\n",
      "[0, 2, 4, 6, 8]\n",
      "[14, 16, 18, 20, 22]\n",
      "[0, 2, 4, 6, 8]\n",
      "[16, 18, 20, 22, 24]\n",
      "[0, 2, 4, 6, 8]\n",
      "[18, 20, 22, 24, 26]\n",
      "[0, 2, 4, 6, 8]\n",
      "[20, 22, 24, 26, 28]\n",
      "[0, 2, 4, 6, 8]\n",
      "[22, 24, 26, 28, 30]\n"
     ]
    }
   ],
   "source": [
    "lista = []\n",
    "\n",
    "for i in list(range(0, 31)):  \n",
    "    if i % 2 == 0:\n",
    "        lista.append(i)\n",
    "        print(lista[:5])\n",
    "        print(lista[-5:])"
   ]
  },
  {
   "cell_type": "markdown",
   "metadata": {},
   "source": [
    "## Ejercicio 8\n",
    "#### Interactuando con listas\n",
    "\n",
    "    From given list gadgets = [“Mobile”, “Laptop”, 100, “Camera”, 310.28, “Speakers”, 27.00,\n",
    "    “Television”, 1000, “Laptop Case”, “Camera Lens”]\n",
    "\n",
    "a)create separate lists of strings and numbers.  \n",
    "\n",
    "b)Sort the strings list in ascending order  \n",
    "\n",
    "c)Sort the strings list in descending order  \n",
    "\n",
    "d)Sort the number list from lowest to highest  \n",
    "\n",
    "e)Sort the number list from highest to lowest"
   ]
  },
  {
   "cell_type": "code",
   "execution_count": 12,
   "metadata": {},
   "outputs": [],
   "source": [
    "gadgets = [\"Mobile\", \"Laptop\", 100, \"Camera\", 310.28, \"Speakers\", 27.00,\n",
    "\"Television\", 1000, \"Laptop Case\", \"Camera Lens\"]\n"
   ]
  },
  {
   "cell_type": "markdown",
   "metadata": {},
   "source": [
    "## Ejercicio 9\n",
    "#### Get first, second best scores from the list.\n",
    "\n",
    "List may contain duplicates.\n",
    "\n",
    "Ex: [86,86,85,85,85,83,23,45,84,1,2,0] => should get 86, 85"
   ]
  },
  {
   "cell_type": "code",
   "execution_count": null,
   "metadata": {},
   "outputs": [],
   "source": []
  },
  {
   "cell_type": "markdown",
   "metadata": {},
   "source": [
    "## Ejercicio 10\n",
    "#### Write a program that detects if a string is a palindrome\n",
    "Ask the user for a string and print out whether this string is a palindrome or not. (A palindrome is a string that reads the same forwards and backwards.)"
   ]
  },
  {
   "cell_type": "code",
   "execution_count": null,
   "metadata": {},
   "outputs": [],
   "source": []
  },
  {
   "cell_type": "markdown",
   "metadata": {},
   "source": [
    "## (Bonus) Ejercicio 11\n",
    "#### Desarrolla el juego del ahorcado\n",
    "El juego del ahorcado consiste en adivinar una palabra, probando letra a letra. El jugaor tiene permitidos 6 fallos, al 7mo fallo pierde. \n",
    "\n",
    "* Habrá que imprimir por pantalla una cantidad de guiones igual al numero de letras e ir sustituyéndolos con los aciertos.\n",
    "* Necesitarás usar un bucle while con un input para modelar las jugadas del ahoracado. En cada ejecución del while comprueba las vidas del jugador, y los aciertos."
   ]
  },
  {
   "cell_type": "code",
   "execution_count": null,
   "metadata": {},
   "outputs": [],
   "source": []
  }
 ],
 "metadata": {
  "kernelspec": {
   "display_name": "Python 3",
   "language": "python",
   "name": "python3"
  },
  "language_info": {
   "codemirror_mode": {
    "name": "ipython",
    "version": 3
   },
   "file_extension": ".py",
   "mimetype": "text/x-python",
   "name": "python",
   "nbconvert_exporter": "python",
   "pygments_lexer": "ipython3",
   "version": "3.8.5"
  }
 },
 "nbformat": 4,
 "nbformat_minor": 4
}
